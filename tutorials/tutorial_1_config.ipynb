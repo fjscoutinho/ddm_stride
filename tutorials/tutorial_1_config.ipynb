{
 "cells": [
  {
   "cell_type": "markdown",
   "metadata": {},
   "source": [
    "## Management of configuration files and results"
   ]
  },
  {
   "cell_type": "markdown",
   "metadata": {},
   "source": [
    "The pipeline is configured by means of configuration files stored in the `config` folder. The framework [hydra](https://hydra.cc/) is used to manage and store both the configuration files and the results corresponding to one experiment.  \n",
    "\n",
    "As a first step, duplicate the files `example_file.yaml` in `config/ddm_model` and `config/task` and rename them. Next, open the file `config/config.yaml`. The `defaults` list specifies which configuration files the pipeline should use for the current run from each of the config folders `ddm_model`, `task` and `algorithm`. Replace the values of `ddm_model` and `task` with the names of the files you just created.   \n",
    "Afterwards, choose a name for the `result_folder` that will contain the results of your current pipeline run. Be aware that running pipeline steps multiple times without changing the name of the result folder will lead to previous results being overwritten!\n",
    "\n",
    "The subsequent images show an example of the structure of your config folder and `config.yaml` when choosing the name `basic_ddm.yaml` for both your files and `basic_ddm` plus the current date for your result folder. See the [hydra docs](https://hydra.cc/docs/configure_hydra/workdir/) for additional information about naming the result folder.\n",
    "\n",
    "<img src=\"tutorial_images/example_config.PNG\">"
   ]
  },
  {
   "cell_type": "markdown",
   "metadata": {},
   "source": [
    "The path to the result folder must be adapted for the tutorials due to the pipeline being run from within the tutorials folder:  "
   ]
  },
  {
   "cell_type": "code",
   "execution_count": 1,
   "metadata": {},
   "outputs": [],
   "source": [
    "dir = '../results/${result_folder}'"
   ]
  },
  {
   "cell_type": "markdown",
   "metadata": {},
   "source": [
    "## Run one pipeline step\n",
    "\n",
    "The configurations `run_simulate`, `run_train`, `run_diagnose_slow`, `run_diagnose_fast` and ` run_evaluate` in `config.yaml` indicate which steps of the pipeline are executed. If you want to run the entire pipeline at once, set all their values to `True`. To complete this tutorial, keep all values to `False`.\n",
    "\n",
    "In order to run a step, execute `!python ../ddm_stride/run.py hydra.run.dir={dir}` and set the flag `run_[step]=True`. The cell below shows how to run a simulate step. However, `run_simulate` is still set to False since the configuration is incomplete and would throw an error."
   ]
  },
  {
   "cell_type": "code",
   "execution_count": 7,
   "metadata": {},
   "outputs": [],
   "source": [
    "%run ../ddm_stride/run.py hydra.run.dir={dir} run_simulate=False"
   ]
  },
  {
   "cell_type": "markdown",
   "metadata": {},
   "source": [
    "<div style=\"display:flex\"><div style=\"border-color:rgba(102,178,255,0.75); border-style:solid; padding: 7px; border-width:2px; margin-right:9px\"> \n",
    "\n",
    "Users who are familiar with ddm_stride can run the pipeline from the command line via `python ../ddm_stride/run.py`.\n",
    "</div> </div>"
   ]
  },
  {
   "cell_type": "markdown",
   "metadata": {},
   "source": [
    "TODO: add example to override"
   ]
  },
  {
   "cell_type": "markdown",
   "metadata": {},
   "source": [
    "<div style=\"display:flex\"><div style=\"border-color:rgba(102,178,255,0.75); border-style:solid; padding: 7px; border-width:2px; margin-right:9px\"> \n",
    "\n",
    "#### Override config\n",
    "As you can see in the previous cell, the flags `hydra.run.dir` and `run_simulate` can been used to override the configuration file settings. The command line can thus be used as a shortcut to override configuration parameters instead of changing them inside the configuration file. If you run the pipeline stages separately, make sure to add the overrides to _every_ step of the pipeline that is executed.\n",
    "\n",
    "Example: To change the parameter `sim_training_data_params.num_simulations` in your `task` config file to 50000 instead of 20000, run   \n",
    "`%run ../ddm_stride/run.py hydra.run.dir={dir} run_simulate=True task.sim_training_data_params.num_simulations=50000`\n",
    "\n",
    "Further information about overriding configuration parameters can be found in the [hydra documentation](https://hydra.cc/docs/tutorials/basic/your_first_app/simple_cli/).\n",
    "</div> </div>"
   ]
  },
  {
   "cell_type": "markdown",
   "metadata": {},
   "source": [
    "## Results folder\n",
    "\n",
    "After running the simulate step, you will see a new subfolder created inside the `results` folder whose name corresponds to the `result_folder` config that you have chosen above. The subfolder `.hydra` contains all configurations as well as overrides. You can see an example of the folder structure in the image above."
   ]
  }
 ],
 "metadata": {
  "interpreter": {
   "hash": "c2b6d4471c6c29cab94c8ae816601f4809efef5c4b677052e3fee0a33f955706"
  },
  "kernelspec": {
   "display_name": "Python 3.9.7 ('msc_env')",
   "language": "python",
   "name": "python3"
  },
  "language_info": {
   "codemirror_mode": {
    "name": "ipython",
    "version": 3
   },
   "file_extension": ".py",
   "mimetype": "text/x-python",
   "name": "python",
   "nbconvert_exporter": "python",
   "pygments_lexer": "ipython3",
   "version": "3.9.7"
  },
  "orig_nbformat": 4
 },
 "nbformat": 4,
 "nbformat_minor": 2
}
