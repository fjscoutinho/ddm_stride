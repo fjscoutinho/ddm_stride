{
 "cells": [
  {
   "cell_type": "markdown",
   "metadata": {},
   "source": [
    "## Management of configuration files and results"
   ]
  },
  {
   "cell_type": "markdown",
   "metadata": {},
   "source": [
    "The pipeline is configured via the framework [hydra](https://hydra.cc/) that allows to manage and store both the configuration files and the results corresponding to one experiment.   \n",
    "Configuration files are stored in the *config* folder and organized into three subfolders, *ddm_model*, *task* and *algorithm*. The files in *config/algorithm* specify the MNLE.\n",
    "*config/ddm_model* defines the Drift-Diffusion model that will be used as a simulator. The *config/task* files contain configurations of different pipeline runs, e.g. the number of simulations, the posterior method or the name of the experimental dataset.  \n",
    "\n",
    "To create config files for your pipeline run, duplicate the files *ddm_model_template.yaml* in *config/ddm_model*, *task_template* in *config/task* and *mnle_template* in *config/algorithm* and rename them. Next, open the file *config/config.yaml*. The `defaults` list at the top of the file specifies which configuration files the pipeline should use for the current run from each of the config folders *ddm_model*, *task* and *algorithm*. Replace the values of `ddm_model`, `task` and `algorithm` with the names of the files you just created.   \n",
    "\n",
    "The results of each pipeline run are saved to the *results* folder.\n",
    "Choose a name for the `result_folder` in *config/config.yaml*. When executing the pipeline, the `result_folder` will be created as a subfolder of *results* and contain the results of your current pipeline run. Be aware that running a pipeline step multiple times without changing the name of `result_folder` will overwrite all previous results produced by this pipeline step!  \n",
    "See the [hydra docs](https://hydra.cc/docs/configure_hydra/workdir/) for additional information about naming the result folder.  \n",
    "`hydra.run.dir` in *config/config.yaml* needs to specify the relative path from the current working directory to *ddm_stride/results/{results_folder}*.\n",
    "\n",
    "The subsequent images show an example of the structure of your config folder and *config.yaml* when choosing the name *basic_ddm.yaml* for all of your files and *basic_ddm* plus a date for your result folder.  \n",
    "The *.hydra* folder within the results subfolder saves the configurations the pipeline has been executed with.\n",
    "\n",
    "<img src=\"tutorial_images/example_config.PNG\">"
   ]
  },
  {
   "cell_type": "markdown",
   "metadata": {},
   "source": [
    "## Run one pipeline step\n",
    "\n",
    "The configurations `run_simulate`, `run_train`, `run_diagnose_fast`, `run_diagnose_slow` and `run_evaluate` in *config.yaml* allow you to indicate which step(s) of the pipeline will be executed. If you want to run the entire pipeline at once, set all values to `True`. To complete this tutorial, keep all values to `False`.\n",
    "\n",
    "In order to run a step, execute `!python ../ddm_stride/run.py hydra.run.dir={dir}` and set the flag `run_[step]=True`. The cell below shows how to run a simulate step. However, `run_simulate` is still set to False since the configuration is incomplete and would throw an error."
   ]
  },
  {
   "cell_type": "code",
   "execution_count": 7,
   "metadata": {},
   "outputs": [],
   "source": [
    "dir = '../results/${result_folder}'\n",
    "%run ../ddm_stride/run.py hydra.run.dir={dir} run_simulate=False"
   ]
  },
  {
   "cell_type": "markdown",
   "metadata": {},
   "source": [
    "<div style=\"display:flex\"><div style=\"border-color:rgba(102,178,255,0.75); border-style:solid; padding: 7px; border-width:2px; margin-right:9px\"> \n",
    "\n",
    "Users who are familiar with ddm_stride can run the pipeline from the command line via <code>python ddm_stride/run.py</code>.\n",
    "</div> </div>"
   ]
  },
  {
   "cell_type": "markdown",
   "metadata": {},
   "source": [
    "<div style=\"display:flex\"><div style=\"border-color:rgba(102,178,255,0.75); border-style:solid; padding: 7px; border-width:2px; margin-right:9px\"> \n",
    "\n",
    "<h3>Override config </h3>\n",
    "As you can see in the previous cell, the flags <code>hydra.run.dir</code> and <code>run_simulate</code> can been used to override the configuration file settings. The command line can thus be used as a shortcut to override configuration parameters instead of changing them inside the configuration file. If you run the pipeline stages separately, make sure to add the overrides to <b>every</b> step of the pipeline that is executed.  <br/><br/> \n",
    "Example: To change the parameter <code>sim_training_data_params.num_simulations</code> in your <i>config/task</i> file to 50000 instead of 20000, run <br/>\n",
    "<code> %run ../ddm_stride/run.py hydra.run.dir={dir} run_simulate=True task.sim_training_data_params.num_simulations=50000 </code>\n",
    "<br/><br/>\n",
    "Further information about overriding configuration parameters can be found in the <a href=\"https://hydra.cc/docs/tutorials/basic/your_first_app/simple_cli/\">hydra documentation</a>.\n",
    "</div> </div>"
   ]
  },
  {
   "cell_type": "markdown",
   "metadata": {},
   "source": [
    "## Results folder\n",
    "\n",
    "After running the simulate step, you will see a new subfolder created inside the `results` folder whose name corresponds to the `result_folder` config that you have specified. The subfolder `.hydra` contains all configurations as well as overrides. You can see an example of the folder structure in the image above."
   ]
  }
 ],
 "metadata": {
  "interpreter": {
   "hash": "d7ca122216c54eca9e7ac82d4dee0c4699b345e24a0957b179aa4aafbf932612"
  },
  "kernelspec": {
   "display_name": "Python 3.9.7 ('msc_env')",
   "language": "python",
   "name": "python3"
  },
  "language_info": {
   "codemirror_mode": {
    "name": "ipython",
    "version": 3
   },
   "file_extension": ".py",
   "mimetype": "text/x-python",
   "name": "python",
   "nbconvert_exporter": "python",
   "pygments_lexer": "ipython3",
   "version": "3.9.7"
  },
  "orig_nbformat": 4
 },
 "nbformat": 4,
 "nbformat_minor": 2
}
