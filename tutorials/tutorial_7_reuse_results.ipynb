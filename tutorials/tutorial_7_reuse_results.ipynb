{
 "cells": [
  {
   "cell_type": "markdown",
   "metadata": {},
   "source": [
    "## Reuse results\n",
    "\n",
    "Since simulation, training and diagnosing can take a lot of time, you might want to reuse some of the results for similar experiments. Possible examples are \n",
    "- you have simulated data, but want to increase the number of simulations\n",
    "- you have simulated data, but want to save different models trained on this data\n",
    "- you have simulated data, trained and diagnosed a model and want to use this model on multiple different experimental datasets\n",
    "\n",
    "The pipeline allows you to load previously simulated data or use a trained model. Be aware that the loaded data and models will not be copied to the result folder created for your current run in most cases. Thus, if deleting any folder from `results`, make sure that no other run relies on data contained in the folder you want to delete.  \n",
    "Choosing sensible names for the `result_folder` config might help you to keep track of your results. The image below shows an example structure for simulating, training and diagnosing a full DDM while setting `result_folder: full_ddm`. Afterwards, the evaluate step is performed thrice on different experimental datasets while setting `result_folder: full_ddm/experimental_data_x`.\n",
    "\n",
    "<img src=\"tutorial_images/reuse_results.PNG\">"
   ]
  },
  {
   "cell_type": "markdown",
   "metadata": {},
   "source": [
    "## Load previously simulated data\n",
    "\n",
    "Open your config file in `config/task`.  \n",
    "`presim_training_data_path`, `presim_test_data_path` and `presim_iid_test_data_path` allow you to load and use data from the specified path.  \n",
    "Be aware that you should not reuse simulation data if you have made changes to the simulator, parameters, experimental conditions or observations! Moreover, the observations and experimental conditions need to correspond to the respective column names in your experimental data.\n",
    "\n",
    "**Increase the number of simulations**  \n",
    "\n",
    "If you have already simulated data for your current run, but want to increase the number of simulations, set  \n",
    "`presim_training_data_path: ${result_folder}/simulation_data`  \n",
    "`presim_test_data_path: ${result_folder}/simulation_data`  \n",
    "`presim_iid_test_data_path: ${result_folder}/simulation_data`. \n",
    "  \n",
    "`${result_folder}` is a reference to the result folder of your current run and `/simulation_data` completes the path to your previously simulated data.  \n",
    "Afterwards, set `sim_training_data_params.num_simulations`, `sim_test_data_params.num_simulations` and `sim_iid_test_data_params.num_params` to the number of simulations you want to add or to 0, if you don't want to add any simulations.  \n",
    "Run the simulation step again. Every data file you add simulations to will be saved to your current results folder.\n",
    "\n",
    "**Use data from another run to train your model**  \n",
    "\n",
    "The path specified as a value of `presim_training_data_path`, `presim_test_data_path` and/or `presim_iid_test_data_path` needs to be relative to the `results` folder. E.g., if your data is contained in `results/full_ddm/simulation_data`, add `full_ddm/simulation_data`.  \n",
    "Afterwards, you can add simulations as described above, if desired. The following image shows you an example for loading data from `results/full_ddm/simulation_data` and adding 2000 simulations to the training data. \n",
    "\n",
    "<img src=\"tutorial_images/prev_simulated_data.PNG\">\n"
   ]
  },
  {
   "cell_type": "markdown",
   "metadata": {},
   "source": [
    "## Reuse a trained model\n",
    "\n",
    "Open your file in `config/task`. The `model_path` configuration allows you to load a model trained in another pipeline run.\n",
    "In order to load a model insert the path to the results subfolder containing the model. The path needs to be relative to the results folder.  \n",
    "Example: your `model_state_dict.pt` is located in `results/basic_ddm/run_01`.  \n",
    "Set `model_path`: `basic_ddm/run_01`  \n",
    "\n",
    "Since you are not training a model, you might want to keep `defaults.algorithm` empty in `config/config.yaml`. You can also specify the algorithm file used for training the model that you are about to load.  \n",
    "Unless you have simulated new test data, the model path should probably be similar to the path specified for `presim_training_data_path`, `presim_test_data_path` and `presim_iid_test_data_path`."
   ]
  }
 ],
 "metadata": {
  "interpreter": {
   "hash": "cff03ddc82668ca004d587eb356366ca0428f63114de65eccbc236aab7e2a35b"
  },
  "kernelspec": {
   "display_name": "Python 3.9.12 ('ddm_stride_env')",
   "language": "python",
   "name": "python3"
  },
  "language_info": {
   "codemirror_mode": {
    "name": "ipython",
    "version": 3
   },
   "file_extension": ".py",
   "mimetype": "text/x-python",
   "name": "python",
   "nbconvert_exporter": "python",
   "pygments_lexer": "ipython3",
   "version": "3.9.12"
  },
  "orig_nbformat": 4
 },
 "nbformat": 4,
 "nbformat_minor": 2
}
