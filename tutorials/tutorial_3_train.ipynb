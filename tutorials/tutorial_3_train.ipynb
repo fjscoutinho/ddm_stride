{
 "cells": [
  {
   "cell_type": "code",
   "execution_count": 1,
   "metadata": {},
   "outputs": [],
   "source": [
    "import warnings\n",
    "warnings.filterwarnings('ignore')"
   ]
  },
  {
   "cell_type": "markdown",
   "metadata": {},
   "source": [
    "## Explore the performance of model hyperparameters\n",
    "\n",
    "The search for suitable hyperparameters for model architecture and training is conducted by employing the [hyperparameter optimization provided by WandB](https://wandb.ai/site/hyperparameter-optimization). WandB allows you to perform a grid search, random search or bayesian search over hyperparameters and visualizes the correlation between hyperparameters and model performance.  \n",
    "\n",
    "The pipeline automatically runs a random search and saves the best hyperparameters and model to your results subfolder.\n",
    "Open the file *config/algorithm/mnle*. The configuration `n_wandb_sweeps` at the top of the file specifies how many parameter combinations will be chosen randomly and trained on. You can adapt this value depending on how much time you are willing to put into training or based on the search range of hyperparameters. \n",
    "\n",
    "If you want to take a closer look at hyperparameter ranges and visualization, read the blue boxes below.  \n",
    "\n",
    "In order to use WandB you need to create an account and will be asked for your WandB credentials when running the training step."
   ]
  },
  {
   "cell_type": "markdown",
   "metadata": {},
   "source": [
    "<div style=\"display:flex\"><div style=\"border-color:rgba(102,178,255,0.75); border-style:solid; padding: 7px; border-width:2px; margin-right:9px\"> \n",
    "\n",
    "<h3> Visualization of hyperparameter performance </h3>\n",
    "\n",
    "To see the visualization shown below either click on one of the links shown when running the training step or log in to your WandB account, select your current project and click on Sweeps in the navigation bar on the left.\n",
    "</br></br>\n",
    "The training step intends to maximize the log likelihood, i.e. the log probability of the training data given training parameters. </br>\n",
    "The lines in the bottom picture describe the different hyperparameter combinations and their validation log probability. Lines are highlighted in the web interface when hovering over them. The lighter the color of a line the better its model performance.  \n",
    "The top left image provides a timestamped overview of the validation log prob of different hyperparameters.\n",
    "\n",
    "The top right image shows how different hyperparameters correlate with the validation log probability. Large green bars might be an indication that the upper bound of the search range of this hyperparameter should be increased in order to allow the hyperparameter to assume larger values. Large red bars point to decreasing the lower bound of the search range. Blue bars indicate how much a hyperparameter influences the model performance.  \n",
    "\n",
    "When trying to improve the performance of the MNLE, start with adapting the hyperparameters that are reported to have the highest importance. The colored lines in the bottom plot indicate if certain ranges of hyperparameter values improve or worsen the training performance. Try to adapt the search range towards areas with lighter colors. Additionally you can use the correlation bars to adapt the search ranges and bounds of a hyperparameter.  \n",
    "Read the blue box below in order to adapt the WandB hyperparameters.\n",
    "\n",
    "<img src=\"tutorial_images/wandb.png\">\n",
    "\n",
    "</div> </div>"
   ]
  },
  {
   "cell_type": "markdown",
   "metadata": {},
   "source": [
    "<div style=\"display:flex\"><div style=\"border-color:rgba(102,178,255,0.75); border-style:solid; padding: 7px; border-width:2px; margin-right:9px\"> \n",
    "\n",
    "<h3>Adapt the range of WandB hyperparameters </h3>\n",
    "\n",
    "The <code>wandb.parameters</code>, <code>train_params</code> and <code>model_hyperparams</code> configurations in your <i>config/algorithm</i> file refer to parameters of the <a href=\"https://github.com/mackelab/sbi/blob/7799de5e4bc676ef4a9db304b225503126735f2c/sbi/neural_nets/mnle.py#L19\">build_mnle</a>\n",
    "and <a href=\"https://github.com/mackelab/sbi/blob/7799de5e4bc676ef4a9db304b225503126735f2c/sbi/inference/snle/snle_base.py#L116\">train</a> functions. You can change configuration values if desired, but please keep the configuration names fixed!    </br>\n",
    "<code>wandb.parameters</code> contains the parameters that WandB will try to optimize. As you can see in the config file, the search range can be defined by specifying either a single value, a list of values or a distribution. Available distributions can be found <a href=\"https://docs.wandb.ai/guides/sweeps/configuration\">here</a>.\n",
    "</br></br>\n",
    "Read the <a href=\"https://docs.wandb.ai/guides/sweeps/quickstart\">WandB docs</a> if you want more information about hyperparameter optimization using WandB or if you want to use grid search or bayesian search.\n",
    "\n",
    "</div> </div>"
   ]
  },
  {
   "cell_type": "markdown",
   "metadata": {},
   "source": [
    "## Training step\n",
    "\n",
    "After completing the training step, your results subfolder should contain `model_state_dict.pt` and `wandb_config.json` unless you use a previously trained model.\n",
    "See **tutorial_7_reuse_results** to learn how to load and reuse a trained model."
   ]
  },
  {
   "cell_type": "code",
   "execution_count": 2,
   "metadata": {},
   "outputs": [],
   "source": [
    "dir = '../results/${result_folder}'"
   ]
  },
  {
   "cell_type": "code",
   "execution_count": null,
   "metadata": {},
   "outputs": [],
   "source": [
    "%run ../ddm_stride/run.py hydra.run.dir={dir} run_train=True "
   ]
  }
 ],
 "metadata": {
  "interpreter": {
   "hash": "cff03ddc82668ca004d587eb356366ca0428f63114de65eccbc236aab7e2a35b"
  },
  "kernelspec": {
   "display_name": "Python 3.9.12 ('ddm_stride_env')",
   "language": "python",
   "name": "python3"
  },
  "language_info": {
   "codemirror_mode": {
    "name": "ipython",
    "version": 3
   },
   "file_extension": ".py",
   "mimetype": "text/x-python",
   "name": "python",
   "nbconvert_exporter": "python",
   "pygments_lexer": "ipython3",
   "version": "3.9.12"
  },
  "orig_nbformat": 4
 },
 "nbformat": 4,
 "nbformat_minor": 2
}
