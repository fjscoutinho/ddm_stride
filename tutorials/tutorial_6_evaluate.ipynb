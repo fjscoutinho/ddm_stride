{
 "cells": [
  {
   "cell_type": "code",
   "execution_count": 14,
   "metadata": {},
   "outputs": [],
   "source": [
    "import hydra\n",
    "import torch\n",
    "from ddm_stride.pipeline.evaluate import load_experimental_data\n",
    "from ddm_stride.pipeline.infer import build_posterior, build_prior\n",
    "from ddm_stride.utils.data_names import *\n",
    "\n",
    "import warnings\n",
    "warnings.filterwarnings('ignore')"
   ]
  },
  {
   "cell_type": "markdown",
   "metadata": {},
   "source": [
    "### Load data\n",
    "\n",
    "Open your `config/task` file. You should already have specified the `experimental_data_path` during the simulation phase. The subsequent cell will read in the data again, in case you want to make changes to the data or plot it. "
   ]
  },
  {
   "cell_type": "code",
   "execution_count": 2,
   "metadata": {},
   "outputs": [
    {
     "data": {
      "text/html": [
       "<div>\n",
       "<style scoped>\n",
       "    .dataframe tbody tr th:only-of-type {\n",
       "        vertical-align: middle;\n",
       "    }\n",
       "\n",
       "    .dataframe tbody tr th {\n",
       "        vertical-align: top;\n",
       "    }\n",
       "\n",
       "    .dataframe thead th {\n",
       "        text-align: right;\n",
       "    }\n",
       "</style>\n",
       "<table border=\"1\" class=\"dataframe\">\n",
       "  <thead>\n",
       "    <tr style=\"text-align: right;\">\n",
       "      <th></th>\n",
       "      <th>monkey</th>\n",
       "      <th>rt</th>\n",
       "      <th>coh</th>\n",
       "      <th>correct</th>\n",
       "      <th>choice</th>\n",
       "    </tr>\n",
       "  </thead>\n",
       "  <tbody>\n",
       "    <tr>\n",
       "      <th>0</th>\n",
       "      <td>1</td>\n",
       "      <td>0.355</td>\n",
       "      <td>0.512</td>\n",
       "      <td>1.0</td>\n",
       "      <td>0.0</td>\n",
       "    </tr>\n",
       "    <tr>\n",
       "      <th>1</th>\n",
       "      <td>1</td>\n",
       "      <td>0.359</td>\n",
       "      <td>0.256</td>\n",
       "      <td>1.0</td>\n",
       "      <td>1.0</td>\n",
       "    </tr>\n",
       "    <tr>\n",
       "      <th>2</th>\n",
       "      <td>1</td>\n",
       "      <td>0.525</td>\n",
       "      <td>0.128</td>\n",
       "      <td>1.0</td>\n",
       "      <td>1.0</td>\n",
       "    </tr>\n",
       "    <tr>\n",
       "      <th>3</th>\n",
       "      <td>1</td>\n",
       "      <td>0.332</td>\n",
       "      <td>0.512</td>\n",
       "      <td>1.0</td>\n",
       "      <td>1.0</td>\n",
       "    </tr>\n",
       "    <tr>\n",
       "      <th>4</th>\n",
       "      <td>1</td>\n",
       "      <td>0.302</td>\n",
       "      <td>0.032</td>\n",
       "      <td>0.0</td>\n",
       "      <td>0.0</td>\n",
       "    </tr>\n",
       "    <tr>\n",
       "      <th>...</th>\n",
       "      <td>...</td>\n",
       "      <td>...</td>\n",
       "      <td>...</td>\n",
       "      <td>...</td>\n",
       "      <td>...</td>\n",
       "    </tr>\n",
       "    <tr>\n",
       "      <th>6144</th>\n",
       "      <td>2</td>\n",
       "      <td>0.627</td>\n",
       "      <td>0.032</td>\n",
       "      <td>1.0</td>\n",
       "      <td>1.0</td>\n",
       "    </tr>\n",
       "    <tr>\n",
       "      <th>6145</th>\n",
       "      <td>2</td>\n",
       "      <td>0.581</td>\n",
       "      <td>0.256</td>\n",
       "      <td>1.0</td>\n",
       "      <td>1.0</td>\n",
       "    </tr>\n",
       "    <tr>\n",
       "      <th>6146</th>\n",
       "      <td>2</td>\n",
       "      <td>0.293</td>\n",
       "      <td>0.512</td>\n",
       "      <td>1.0</td>\n",
       "      <td>1.0</td>\n",
       "    </tr>\n",
       "    <tr>\n",
       "      <th>6147</th>\n",
       "      <td>2</td>\n",
       "      <td>0.373</td>\n",
       "      <td>0.128</td>\n",
       "      <td>1.0</td>\n",
       "      <td>0.0</td>\n",
       "    </tr>\n",
       "    <tr>\n",
       "      <th>6148</th>\n",
       "      <td>2</td>\n",
       "      <td>0.685</td>\n",
       "      <td>0.000</td>\n",
       "      <td>0.0</td>\n",
       "      <td>1.0</td>\n",
       "    </tr>\n",
       "  </tbody>\n",
       "</table>\n",
       "<p>6149 rows × 5 columns</p>\n",
       "</div>"
      ],
      "text/plain": [
       "      monkey     rt    coh  correct  choice\n",
       "0          1  0.355  0.512      1.0     0.0\n",
       "1          1  0.359  0.256      1.0     1.0\n",
       "2          1  0.525  0.128      1.0     1.0\n",
       "3          1  0.332  0.512      1.0     1.0\n",
       "4          1  0.302  0.032      0.0     0.0\n",
       "...      ...    ...    ...      ...     ...\n",
       "6144       2  0.627  0.032      1.0     1.0\n",
       "6145       2  0.581  0.256      1.0     1.0\n",
       "6146       2  0.293  0.512      1.0     1.0\n",
       "6147       2  0.373  0.128      1.0     0.0\n",
       "6148       2  0.685  0.000      0.0     1.0\n",
       "\n",
       "[6149 rows x 5 columns]"
      ]
     },
     "execution_count": 2,
     "metadata": {},
     "output_type": "execute_result"
    }
   ],
   "source": [
    "with hydra.initialize(config_path='../config'):\n",
    "    cfg = hydra.compose(config_name='config')\n",
    "\n",
    "experimental_data = load_experimental_data(cfg)\n",
    "experimental_data"
   ]
  },
  {
   "cell_type": "markdown",
   "metadata": {},
   "source": [
    "### Plotting the experimental data and the posterior\n",
    "\n",
    "The `group_by` configuration in `config/task` allows you to group results by experimental conditions. If you leave the configuration empty, the posterior will marginalize over all experimental conditions, i.e.  \n",
    "$P(\\theta | x) = \\sum_{\\pi} P(\\theta | x, \\pi)$ with parameters $\\theta$, data $x$ and experimental conditions $\\pi$. By specifying at least one experimental condition, the posterior will be computed for each combination of the specified experimental conditions separately.\n",
    "\n",
    "Example:  \n",
    "The experimental data specifies three levels of task difficulty via the experimental condition `coh`. The subsequent plot shows an example for `evaluate/pdf_and_posterior.png` when defining `group_by: coh`. The plots on the left visualize the experimental data as well as the potential function $P(x| \\theta, \\pi) \\cdot P(\\theta)$. The title of the plot indicates the experimental condition that the data has been grouped by. The right side of the plot shows the posterior for each parameter $\\theta$.\n",
    "\n",
    "TODO: plot\n",
    "\n",
    "The following plot shows an example of marginalizing the task difficulty out.  \n",
    "\n",
    "TODO: plot\n",
    "\n",
    "The best parameters (for each group) are saved in `best_thetas.json` with the `diagnose` subfolder. TODO: confidence interval"
   ]
  },
  {
   "cell_type": "markdown",
   "metadata": {},
   "source": [
    "### Posterior predictive check\n",
    "\n",
    "In order to determine how well different posterior samples approximate the experimental data, a posterior predictive check is performed. For each plot one posterior sample that has been inferred \n",
    "from the experimental data is used to simulate observations. Posterior samples should effect simulations similar to the experimental data, especially if the posterior sample has a high probability within the posterior distribution. \n",
    "\n",
    "TODO: plot"
   ]
  },
  {
   "cell_type": "markdown",
   "metadata": {},
   "source": [
    "### Run evaluate step"
   ]
  },
  {
   "cell_type": "code",
   "execution_count": 3,
   "metadata": {},
   "outputs": [],
   "source": [
    "dir = '../results/${result_folder}'"
   ]
  },
  {
   "cell_type": "code",
   "execution_count": null,
   "metadata": {},
   "outputs": [],
   "source": [
    "%run ../ddm_stride/run.py run_evaluate=True    \n",
    "# show output, interpretation/recommendations"
   ]
  },
  {
   "cell_type": "markdown",
   "metadata": {},
   "source": [
    "### Access the posterior\n",
    "\n",
    "The subsequent cell allows to access the posterior. `ddm_stride/sbi_extensions/mcmc.py` provides functions for sampling from the posterior or computing  $\\log P(x| \\theta, \\pi) \\cdot P(\\theta)$."
   ]
  },
  {
   "cell_type": "code",
   "execution_count": 15,
   "metadata": {},
   "outputs": [],
   "source": [
    "with hydra.initialize(config_path='../config'):\n",
    "    cfg = hydra.compose(config_name='config')\n",
    "\n",
    "# Specify one configuration of experimental conditions, if available\n",
    "exp_cond = []\n",
    "\n",
    "# Filter out data containing the experimental conditions specified above\n",
    "if exp_cond: \n",
    "    exp_cond_data = experimental_data.loc[experimental_data[:, get_experimental_condition_names(cfg)] == exp_cond]\n",
    "    # x contains the observations\n",
    "    x = exp_cond_data.loc[:, get_observation_names(cfg)].values\n",
    "else:\n",
    "    # x contains the observations\n",
    "    x = experimental_data.loc[:, get_observation_names(cfg)].values\n",
    "\n",
    "posterior = build_posterior(cfg)"
   ]
  },
  {
   "cell_type": "code",
   "execution_count": 18,
   "metadata": {},
   "outputs": [
    {
     "name": "stderr",
     "output_type": "stream",
     "text": [
      "Tuning bracket width...: 100%|██████████| 50/50 [01:35<00:00,  1.90s/it]s]\n",
      "Generating samples: 100%|██████████| 100/100 [03:11<00:00,  1.92s/it]\n",
      "Generating samples: 100%|██████████| 10/10 [00:18<00:00,  1.85s/it]\n",
      "Running 1 MCMC chains in 1 batches.: 100%|██████████| 1/1 [05:05<00:00, 305.60s/it]"
     ]
    },
    {
     "name": "stdout",
     "output_type": "stream",
     "text": [
      "samples: tensor([[-0.8296,  1.7672,  0.6999],\n",
      "        [-0.8365,  1.7620,  0.6999],\n",
      "        [-0.8289,  1.7657,  0.6995],\n",
      "        [-0.8049,  1.7589,  0.6999],\n",
      "        [-0.8288,  1.7598,  0.6999],\n",
      "        [-0.8342,  1.7658,  0.6999],\n",
      "        [-0.8191,  1.7641,  0.6999],\n",
      "        [-0.8167,  1.7548,  0.6998],\n",
      "        [-0.8193,  1.7537,  0.7000],\n",
      "        [-0.8214,  1.7635,  0.6999]])\n"
     ]
    },
    {
     "name": "stderr",
     "output_type": "stream",
     "text": [
      "\n"
     ]
    }
   ],
   "source": [
    "# Sample from the posterior\n",
    "# If you want to draw many samples, increase the number of chains and workers\n",
    "samples = posterior.sample((10,), x=torch.Tensor(x), exp_cond=torch.Tensor(exp_cond), num_chains=1, num_workers=1)\n",
    "print(f\"samples: {samples}\")"
   ]
  },
  {
   "cell_type": "code",
   "execution_count": 10,
   "metadata": {},
   "outputs": [
    {
     "name": "stdout",
     "output_type": "stream",
     "text": [
      "theta: tensor([[-0.7571,  1.2192,  0.3646],\n",
      "        [-0.7012,  1.1473,  0.3808]])\n",
      "log_prob: tensor([[-13791.8652, -14407.0352]]), \n",
      "potential: tensor([[-13791.8652, -14407.0352]])\n"
     ]
    }
   ],
   "source": [
    "# Sample a parameter from the prior\n",
    "theta = build_prior(cfg, device='cpu').sample((2,))\n",
    "print(f\"theta: {theta}\")\n",
    "\n",
    "# Compute the log probability\n",
    "log_prob = posterior.log_prob(theta, x=torch.Tensor(x), exp_cond=torch.Tensor(exp_cond))\n",
    "potential = posterior.potential(theta, x=torch.Tensor(x), exp_cond=torch.Tensor(exp_cond))\n",
    "\n",
    "print(f\"log_prob: {log_prob}, \\npotential: {potential}\")"
   ]
  }
 ],
 "metadata": {
  "interpreter": {
   "hash": "cff03ddc82668ca004d587eb356366ca0428f63114de65eccbc236aab7e2a35b"
  },
  "kernelspec": {
   "display_name": "Python 3.9.12 ('ddm_stride_env')",
   "language": "python",
   "name": "python3"
  },
  "language_info": {
   "codemirror_mode": {
    "name": "ipython",
    "version": 3
   },
   "file_extension": ".py",
   "mimetype": "text/x-python",
   "name": "python",
   "nbconvert_exporter": "python",
   "pygments_lexer": "ipython3",
   "version": "3.9.12"
  },
  "orig_nbformat": 4
 },
 "nbformat": 4,
 "nbformat_minor": 2
}
