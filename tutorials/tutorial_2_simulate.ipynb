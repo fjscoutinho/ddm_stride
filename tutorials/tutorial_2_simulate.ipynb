{
 "cells": [
  {
   "cell_type": "code",
   "execution_count": 1,
   "metadata": {},
   "outputs": [],
   "source": [
    "import hydra\n",
    "from ddm_stride.pipeline.evaluate import load_experimental_data\n",
    "from ddm_stride.pipeline.simulate import build_simulator\n",
    "from ddm_stride.pipeline.infer import build_proposal\n",
    "import warnings\n",
    "warnings.filterwarnings('ignore')"
   ]
  },
  {
   "cell_type": "markdown",
   "metadata": {},
   "source": [
    "## Pre-implemented DDMs\n",
    "\n",
    "The config files contained in *config/ddm_model* provide information about the Drift-Diffusion Model you want to use for simulating data. The following DDMs have been pre-implemented:\n",
    "\n",
    "- Basic DDM with parameters `drift`, `starting_point` of the decision variable and `boundary_separation`.    \n",
    "    SDE: $dy = v dt + \\sigma dW$  \n",
    "    ddm_model file: *basic_ddm.yaml*  \n",
    "    ddm implementation: `ddm_stride.ddm_models.basic_ddm.BasicDDM`\n",
    "\n",
    "If you want to use a pre-implemented DDM, copy the content of its ddm_model file to your ddm_model file. Take a look at the following steps to determine if you want to adapt the prior distributions of parameters and experimental conditions or if you need to change the observation names. You can skip the blue box **Implement a DDM**."
   ]
  },
  {
   "cell_type": "markdown",
   "metadata": {},
   "source": [
    "## Define inputs to the simulator and simulator results\n",
    "\n",
    "Open your file in *config/ddm_model*.  \n",
    "Below the simulator configuration, you can see configurations for `parameters`, `experimental conditions` and `observations`. A DDM models observations as a function of parameters and optionally experimental conditions.\n",
    "- `parameters` represent the values that you want to infer from the experimental data, e.g. the drift rate, boundary height or non-decision time.  \n",
    "- `experimental conditions` represent additional information that is relevant for the DDM to model observations, but that is known by the user. In contrast to the unknown parameter values, experimental conditions will thus not be inferred! Further information on experimental conditions can be found in the blue box below.\n",
    "- `observations` usually consist of a reaction time and a choice."
   ]
  },
  {
   "cell_type": "markdown",
   "metadata": {},
   "source": [
    "#### Define parameters\n",
    "\n",
    "You need to define a name for each DDM parameter that you want to infer as well as its prior distribution. The prior distribution specifies the range of sensible parameter values. In order to simulate data with the DDM, samples are drawn from the prior distribution and used as an input to the simulator. It is recommended to use one of the [pytorch distributions](https://pytorch.org/docs/stable/distributions.html) as a prior.\n",
    "\n",
    "Example:  \n",
    "Define a parameter `drift` with a prior distribution consisting of a normal distribution with mean 2 and standard deviation 3 as well as a parameter `boundary_separation` with a uniform prior distribution between 2.5 and 5:\n",
    "\n",
    "```\n",
    "parameters:\n",
    "- name: drift\n",
    "  distribution: \n",
    "    _target_: torch.distributions.normal.Normal\n",
    "    loc: 2\n",
    "    scale: 3 \n",
    "- name: boundary_separation\n",
    "  distribution: \n",
    "    _target_: torch.distributions.uniform.Uniform\n",
    "    low: 2.5\n",
    "    high: 5\n",
    "```\n",
    "`_target_` specifies the name of the distribution function you want to use. `loc` and `scale` are the parameters of the [normal distribution](https://pytorch.org/docs/stable/distributions.html#normal) and must be specified in order to pass the required arguments to the distribution function. Similarly, `low` and `high` are parameters of the [uniform distribution](https://pytorch.org/docs/stable/distributions.html#uniform)."
   ]
  },
  {
   "cell_type": "markdown",
   "metadata": {},
   "source": [
    "#### Read in experimental data\n",
    "\n",
    "In order to define the observations and experimental conditions, you need to take a look at your experimental data first. Take the CSV file containing your experimental data and drag it into the *data* folder.  \n",
    "Subsequently, open your file in *config/tasks* and scroll to the bottom. You will find a configuration called `experimental_data_path`. Add the name of your experimental data file as a value. If everything works correctly, you should be able to see a preview of your data when running the next cell:\n"
   ]
  },
  {
   "cell_type": "code",
   "execution_count": 2,
   "metadata": {},
   "outputs": [
    {
     "data": {
      "text/html": [
       "<div>\n",
       "<style scoped>\n",
       "    .dataframe tbody tr th:only-of-type {\n",
       "        vertical-align: middle;\n",
       "    }\n",
       "\n",
       "    .dataframe tbody tr th {\n",
       "        vertical-align: top;\n",
       "    }\n",
       "\n",
       "    .dataframe thead th {\n",
       "        text-align: right;\n",
       "    }\n",
       "</style>\n",
       "<table border=\"1\" class=\"dataframe\">\n",
       "  <thead>\n",
       "    <tr style=\"text-align: right;\">\n",
       "      <th></th>\n",
       "      <th>monkey</th>\n",
       "      <th>rt</th>\n",
       "      <th>coh</th>\n",
       "      <th>correct</th>\n",
       "      <th>choice</th>\n",
       "    </tr>\n",
       "  </thead>\n",
       "  <tbody>\n",
       "    <tr>\n",
       "      <th>0</th>\n",
       "      <td>1</td>\n",
       "      <td>0.355</td>\n",
       "      <td>0.512</td>\n",
       "      <td>1.0</td>\n",
       "      <td>0.0</td>\n",
       "    </tr>\n",
       "    <tr>\n",
       "      <th>1</th>\n",
       "      <td>1</td>\n",
       "      <td>0.359</td>\n",
       "      <td>0.256</td>\n",
       "      <td>1.0</td>\n",
       "      <td>1.0</td>\n",
       "    </tr>\n",
       "    <tr>\n",
       "      <th>2</th>\n",
       "      <td>1</td>\n",
       "      <td>0.525</td>\n",
       "      <td>0.128</td>\n",
       "      <td>1.0</td>\n",
       "      <td>1.0</td>\n",
       "    </tr>\n",
       "    <tr>\n",
       "      <th>3</th>\n",
       "      <td>1</td>\n",
       "      <td>0.332</td>\n",
       "      <td>0.512</td>\n",
       "      <td>1.0</td>\n",
       "      <td>1.0</td>\n",
       "    </tr>\n",
       "    <tr>\n",
       "      <th>4</th>\n",
       "      <td>1</td>\n",
       "      <td>0.302</td>\n",
       "      <td>0.032</td>\n",
       "      <td>0.0</td>\n",
       "      <td>0.0</td>\n",
       "    </tr>\n",
       "    <tr>\n",
       "      <th>...</th>\n",
       "      <td>...</td>\n",
       "      <td>...</td>\n",
       "      <td>...</td>\n",
       "      <td>...</td>\n",
       "      <td>...</td>\n",
       "    </tr>\n",
       "    <tr>\n",
       "      <th>6144</th>\n",
       "      <td>2</td>\n",
       "      <td>0.627</td>\n",
       "      <td>0.032</td>\n",
       "      <td>1.0</td>\n",
       "      <td>1.0</td>\n",
       "    </tr>\n",
       "    <tr>\n",
       "      <th>6145</th>\n",
       "      <td>2</td>\n",
       "      <td>0.581</td>\n",
       "      <td>0.256</td>\n",
       "      <td>1.0</td>\n",
       "      <td>1.0</td>\n",
       "    </tr>\n",
       "    <tr>\n",
       "      <th>6146</th>\n",
       "      <td>2</td>\n",
       "      <td>0.293</td>\n",
       "      <td>0.512</td>\n",
       "      <td>1.0</td>\n",
       "      <td>1.0</td>\n",
       "    </tr>\n",
       "    <tr>\n",
       "      <th>6147</th>\n",
       "      <td>2</td>\n",
       "      <td>0.373</td>\n",
       "      <td>0.128</td>\n",
       "      <td>1.0</td>\n",
       "      <td>0.0</td>\n",
       "    </tr>\n",
       "    <tr>\n",
       "      <th>6148</th>\n",
       "      <td>2</td>\n",
       "      <td>0.685</td>\n",
       "      <td>0.000</td>\n",
       "      <td>0.0</td>\n",
       "      <td>1.0</td>\n",
       "    </tr>\n",
       "  </tbody>\n",
       "</table>\n",
       "<p>6149 rows × 5 columns</p>\n",
       "</div>"
      ],
      "text/plain": [
       "      monkey     rt    coh  correct  choice\n",
       "0          1  0.355  0.512      1.0     0.0\n",
       "1          1  0.359  0.256      1.0     1.0\n",
       "2          1  0.525  0.128      1.0     1.0\n",
       "3          1  0.332  0.512      1.0     1.0\n",
       "4          1  0.302  0.032      0.0     0.0\n",
       "...      ...    ...    ...      ...     ...\n",
       "6144       2  0.627  0.032      1.0     1.0\n",
       "6145       2  0.581  0.256      1.0     1.0\n",
       "6146       2  0.293  0.512      1.0     1.0\n",
       "6147       2  0.373  0.128      1.0     0.0\n",
       "6148       2  0.685  0.000      0.0     1.0\n",
       "\n",
       "[6149 rows x 5 columns]"
      ]
     },
     "execution_count": 2,
     "metadata": {},
     "output_type": "execute_result"
    }
   ],
   "source": [
    "with hydra.initialize(config_path='../config'):\n",
    "    cfg = hydra.compose(config_name='config')\n",
    "\n",
    "load_experimental_data(cfg)"
   ]
  },
  {
   "cell_type": "markdown",
   "metadata": {},
   "source": [
    "<div style=\"display:flex\"><div style=\"border-color:rgba(102,178,255,0.75); border-style:solid; padding: 7px; border-width:2px; margin-right:9px\"> \n",
    "<h3>Experimental conditions</h3>\n",
    "\n",
    "Experimental conditions might consist of task difficulty or previous choices of a subject.\n",
    "They are specified similarly to parameters. Even though the experimental conditions are not inferred, a proposal distribution is necessary to sample experimental conditions that are subsequently used to simulate training data.\n",
    "Make sure that the <code>name</code> of an experimental condition corresponds to its column name in the experimental data.</br></br>\n",
    "\n",
    "Example:  \n",
    "The experimental data specifies three levels of task difficulty. 50% of experiments have been performed with task difficulty 1 and 25% each with difficulty levels 2 and 3.  </br>\n",
    "Use the class <code>ddm_stride.utils.distributions.Categorical</code> to sample the task difficulty levels. The distribution is based on the <a href=\"https://pytorch.org/docs/stable/distributions.html#categorical\">pytorch categorical distribution</a>, but samples the values specified in <code>discrete_values</code> instead of class indices. If you want the probability of experimental conditions to be taken into account, you can specify a probability for each value. Leave <code>probs</code> empty to sample each value with equal probability. Probabilities are normalized automatically. </br>\n",
    "\n",
    "<pre>\n",
    "<code>\n",
    "- name: task_difficulty   \n",
    "  distribution:\n",
    "      _target_: ddm_stride.utils.distributions.Categorical\n",
    "      discrete_values: [1, 2, 3]\n",
    "      probs: [50, 25, 25]\n",
    "</code>\n",
    "</pre>\n",
    "\n",
    "</div> </div>\n"
   ]
  },
  {
   "cell_type": "markdown",
   "metadata": {},
   "source": [
    "#### Define observations\n",
    "\n",
    "Add observations to the `obervations` config such that `name` corresponds to the column name containing the observation and `variable_type` describes whether the observation is discrete (usually the choice) or continuous (usually the reaction time).  \n",
    "If all observations and experimental conditions defined in the config file have been found in the experimental data, running the next cell will show you the experimental data again. Otherwise, you will get an error that tells you which observation or experimental condition can't be found.\n",
    "\n",
    "Example:  \n",
    "Define a discrete observation `choice` and a continuous observation `rt`:\n",
    "\n",
    "```\n",
    "observations:\n",
    "- name: choice\n",
    "  variable_type: discrete\n",
    "- name: rt\n",
    "  variable_type: continuous\n",
    "```"
   ]
  },
  {
   "cell_type": "code",
   "execution_count": 3,
   "metadata": {},
   "outputs": [
    {
     "data": {
      "text/html": [
       "<div>\n",
       "<style scoped>\n",
       "    .dataframe tbody tr th:only-of-type {\n",
       "        vertical-align: middle;\n",
       "    }\n",
       "\n",
       "    .dataframe tbody tr th {\n",
       "        vertical-align: top;\n",
       "    }\n",
       "\n",
       "    .dataframe thead th {\n",
       "        text-align: right;\n",
       "    }\n",
       "</style>\n",
       "<table border=\"1\" class=\"dataframe\">\n",
       "  <thead>\n",
       "    <tr style=\"text-align: right;\">\n",
       "      <th></th>\n",
       "      <th>monkey</th>\n",
       "      <th>rt</th>\n",
       "      <th>coh</th>\n",
       "      <th>correct</th>\n",
       "      <th>choice</th>\n",
       "    </tr>\n",
       "  </thead>\n",
       "  <tbody>\n",
       "    <tr>\n",
       "      <th>0</th>\n",
       "      <td>1</td>\n",
       "      <td>0.355</td>\n",
       "      <td>0.512</td>\n",
       "      <td>1.0</td>\n",
       "      <td>0.0</td>\n",
       "    </tr>\n",
       "    <tr>\n",
       "      <th>1</th>\n",
       "      <td>1</td>\n",
       "      <td>0.359</td>\n",
       "      <td>0.256</td>\n",
       "      <td>1.0</td>\n",
       "      <td>1.0</td>\n",
       "    </tr>\n",
       "    <tr>\n",
       "      <th>2</th>\n",
       "      <td>1</td>\n",
       "      <td>0.525</td>\n",
       "      <td>0.128</td>\n",
       "      <td>1.0</td>\n",
       "      <td>1.0</td>\n",
       "    </tr>\n",
       "    <tr>\n",
       "      <th>3</th>\n",
       "      <td>1</td>\n",
       "      <td>0.332</td>\n",
       "      <td>0.512</td>\n",
       "      <td>1.0</td>\n",
       "      <td>1.0</td>\n",
       "    </tr>\n",
       "    <tr>\n",
       "      <th>4</th>\n",
       "      <td>1</td>\n",
       "      <td>0.302</td>\n",
       "      <td>0.032</td>\n",
       "      <td>0.0</td>\n",
       "      <td>0.0</td>\n",
       "    </tr>\n",
       "    <tr>\n",
       "      <th>...</th>\n",
       "      <td>...</td>\n",
       "      <td>...</td>\n",
       "      <td>...</td>\n",
       "      <td>...</td>\n",
       "      <td>...</td>\n",
       "    </tr>\n",
       "    <tr>\n",
       "      <th>6144</th>\n",
       "      <td>2</td>\n",
       "      <td>0.627</td>\n",
       "      <td>0.032</td>\n",
       "      <td>1.0</td>\n",
       "      <td>1.0</td>\n",
       "    </tr>\n",
       "    <tr>\n",
       "      <th>6145</th>\n",
       "      <td>2</td>\n",
       "      <td>0.581</td>\n",
       "      <td>0.256</td>\n",
       "      <td>1.0</td>\n",
       "      <td>1.0</td>\n",
       "    </tr>\n",
       "    <tr>\n",
       "      <th>6146</th>\n",
       "      <td>2</td>\n",
       "      <td>0.293</td>\n",
       "      <td>0.512</td>\n",
       "      <td>1.0</td>\n",
       "      <td>1.0</td>\n",
       "    </tr>\n",
       "    <tr>\n",
       "      <th>6147</th>\n",
       "      <td>2</td>\n",
       "      <td>0.373</td>\n",
       "      <td>0.128</td>\n",
       "      <td>1.0</td>\n",
       "      <td>0.0</td>\n",
       "    </tr>\n",
       "    <tr>\n",
       "      <th>6148</th>\n",
       "      <td>2</td>\n",
       "      <td>0.685</td>\n",
       "      <td>0.000</td>\n",
       "      <td>0.0</td>\n",
       "      <td>1.0</td>\n",
       "    </tr>\n",
       "  </tbody>\n",
       "</table>\n",
       "<p>6149 rows × 5 columns</p>\n",
       "</div>"
      ],
      "text/plain": [
       "      monkey     rt    coh  correct  choice\n",
       "0          1  0.355  0.512      1.0     0.0\n",
       "1          1  0.359  0.256      1.0     1.0\n",
       "2          1  0.525  0.128      1.0     1.0\n",
       "3          1  0.332  0.512      1.0     1.0\n",
       "4          1  0.302  0.032      0.0     0.0\n",
       "...      ...    ...    ...      ...     ...\n",
       "6144       2  0.627  0.032      1.0     1.0\n",
       "6145       2  0.581  0.256      1.0     1.0\n",
       "6146       2  0.293  0.512      1.0     1.0\n",
       "6147       2  0.373  0.128      1.0     0.0\n",
       "6148       2  0.685  0.000      0.0     1.0\n",
       "\n",
       "[6149 rows x 5 columns]"
      ]
     },
     "execution_count": 3,
     "metadata": {},
     "output_type": "execute_result"
    }
   ],
   "source": [
    "with hydra.initialize(config_path='../config'):\n",
    "    cfg = hydra.compose(config_name='config')\n",
    "\n",
    "load_experimental_data(cfg)"
   ]
  },
  {
   "cell_type": "markdown",
   "metadata": {},
   "source": [
    "<div style=\"display:flex\"><div style=\"border-color:rgba(102,178,255,0.75); border-style:solid; padding: 7px; border-width:2px; margin-right:9px\"> \n",
    "\n",
    "<h2>Implement a DDM</h2>\n",
    "\n",
    "<i>ddm_stride/ddm_models/base_simulator.py</i> defines an interface for the simulator class. All other files in <i>ddm_stride/ddm_models</i> contain implementations of this interface.\n",
    "\n",
    "The file <i>ddm_stride/ddm_models/basic_ddm.py</i> contains the implementation of a simple DDM you can use as a reference. Duplicate <i>ddm_stride/ddm_models/basic_ddm.py</i>, rename the duplicated file and open it.   \n",
    "Choose a name for your DDM and replace <code>BasicDDM</code> as a class name. Adapt the docstring such that it contains a description of your DDM.  \n",
    "\n",
    "Usually, the only function you need to implement is <code>generate_data</code>. The function receives a dictionary <code>input_dict</code> that contains one value for each parameter and experimental condition you have defined in <i>config/ddm_model</i>. Assuming a parameter is named <code>drift</code> you can access its value by calling <code>input_dict[drift]</code>.  \n",
    "Use the parameters and experimental conditions to simulate one observation. Return the observation in an numpy array or torch tensor that contains the continuous observations first (e.g. the reaction time) and the discrete observations second (e.g. the choice). \n",
    "\n",
    "When initializing the simulator (see below) the class attributes <code>self.inputs</code> and <code>self.simulator_results</code> are printed. <code>self.inputs</code> reminds you of the parameters and experimental conditions available for simulating one observation. All of them can be accessed via the <code>input_dict</code>. <code>self.simulator_results</code> shows you how the observations should be ordered. Please double check that the order of simulation results is correct.\n",
    "\n",
    "The current DDMs are implement by means of a Runge-Kutte solver provided by <a href=\"https://pypi.org/project/sdeint/\">sdeint</a>. You can use the existing implementations as an example for your DDM implementation. \n",
    "\n",
    "</div> </div>"
   ]
  },
  {
   "cell_type": "markdown",
   "metadata": {},
   "source": [
    "## Initialize the simulator\n",
    "\n",
    "Open your file in *config/ddm_model* and add the path to your DDM model to the `simulator._target_` configuration. You will need to define the file name as well as the class name, e.g. `ddm_stride.ddm_models.my_ddm.MyDDM`.\n",
    "\n",
    "Run the cell below to check if your DDM simulator can be used correctly. The simulator should print the parameter names and experimental conditions it utilizes to simulate data as well as the observations/ simulation results.  \n",
    "Additionally, one sample is drawn from the prior and passed through the simulator."
   ]
  },
  {
   "cell_type": "code",
   "execution_count": 4,
   "metadata": {},
   "outputs": [
    {
     "name": "stdout",
     "output_type": "stream",
     "text": [
      "parameter names and experimental conditions:  ['drift', 'boundary_separation', 'starting_point']\n",
      "simulation results:  ['rt', 'choice']\n",
      "simulation result for input tensor([-0.7312,  1.5007,  0.5790]): tensor([[1.1972, 0.0000]])\n"
     ]
    },
    {
     "name": "stderr",
     "output_type": "stream",
     "text": [
      "c:\\Users\\zopfk\\miniconda3\\envs\\ddm_stride_env\\lib\\site-packages\\sbi\\utils\\user_input_checks.py:64: UserWarning: Prior was provided as a sequence of 3 priors. They will be\n",
      "            interpreted as independent of each other and matched in order to the\n",
      "            components of the parameter.\n",
      "  warnings.warn(\n"
     ]
    }
   ],
   "source": [
    "with hydra.initialize(config_path='../config'):\n",
    "    cfg = hydra.compose(config_name='config')\n",
    "\n",
    "simulator = build_simulator(cfg)\n",
    "random_input = build_proposal(cfg, 'cpu').sample()\n",
    "simulation_result = simulator(random_input)\n",
    "print(f'simulation result for input {random_input}: {simulation_result}')"
   ]
  },
  {
   "cell_type": "markdown",
   "metadata": {},
   "source": [
    "## Specify the number of simulations\n",
    "\n",
    "Open your file in *config/task*. In most cases, the only simulation config you need to adapt here is `sim_training_data_params.num_simulations`. DDMs with few parameters might only need 20000 to 50000 simulations, while more complex DDMs or very large prior spaces might need 100000 simulations or more. If you want to increase the number of training or test simulations, you can add new simulations to your previously simulated data later. Take a look at **tutorial_7_reuse_results.ipynb** to learn how to do this.\n",
    "\n",
    "For some DDM implementations simulating in parallel, i.e. with num_workers > 1 might throw an error."
   ]
  },
  {
   "cell_type": "markdown",
   "metadata": {},
   "source": [
    "<div style=\"display:flex\"><div style=\"border-color:rgba(102,178,255,0.75); border-style:solid; padding: 7px; border-width:2px; margin-right:9px\"> \n",
    "The value of <code>sim_iid_test_data_params.num_params</code> determines the number of plots in <i>compare_observations.png</i> and <i>posterior_predictive.png</i> that will be created in the diagnose stage. You might want to adapt the number of plots depending on the number of parameters and experimental conditions, since every plot will be based on only one sample of parameters and experimental conditions.\n",
    "\n",
    "If your simulator is rather slow, it might be useful to play around with different values for <code>simulation_batch_size</code> and <code>num_workers</code> in order to improve simulation performance. You can find more information in the sbi function <a href=\"https://github.com/mackelab/sbi/blob/7799de5e4bc676ef4a9db304b225503126735f2c/sbi/inference/base.py#L478\">simulate_for_sbi</a>. \n",
    "\n",
    "</div> </div>"
   ]
  },
  {
   "cell_type": "markdown",
   "metadata": {},
   "source": [
    "## Simulation step\n",
    "\n",
    "Progress bars show the current number of simulations that have been computed.\n",
    "After completing all simulations, the results subfolder should contain a subfolder *simulation_data* containing *training_data.csv*, *test_data.csv* and *iid_test_data.csv*.  \n",
    "A csv file should only be missing if you load previously simulated data and do not add simulations to the file. For further information see **tutorial_7_reuse_results.ipynb**."
   ]
  },
  {
   "cell_type": "code",
   "execution_count": 5,
   "metadata": {},
   "outputs": [],
   "source": [
    "dir = '../results/${result_folder}'"
   ]
  },
  {
   "cell_type": "code",
   "execution_count": 8,
   "metadata": {},
   "outputs": [
    {
     "name": "stdout",
     "output_type": "stream",
     "text": [
      "parameter names and experimental conditions:  ['drift', 'boundary_separation', 'starting_point']\n",
      "simulation results:  ['rt', 'choice']\n"
     ]
    },
    {
     "name": "stderr",
     "output_type": "stream",
     "text": [
      "c:\\Users\\zopfk\\miniconda3\\envs\\ddm_stride_env\\lib\\site-packages\\sbi\\utils\\user_input_checks.py:64: UserWarning: Prior was provided as a sequence of 3 priors. They will be\n",
      "            interpreted as independent of each other and matched in order to the\n",
      "            components of the parameter.\n",
      "  warnings.warn(\n"
     ]
    },
    {
     "data": {
      "application/vnd.jupyter.widget-view+json": {
       "model_id": "6f1eca4941864351b80d211ebe123e7c",
       "version_major": 2,
       "version_minor": 0
      },
      "text/plain": [
       "Running 1000 simulations in 10 batches.:   0%|          | 0/10 [00:00<?, ?it/s]"
      ]
     },
     "metadata": {},
     "output_type": "display_data"
    },
    {
     "data": {
      "application/vnd.jupyter.widget-view+json": {
       "model_id": "367fb5fe69c44339ad05dc3a03d1c26a",
       "version_major": 2,
       "version_minor": 0
      },
      "text/plain": [
       "Running 1000 simulations in 10 batches.:   0%|          | 0/10 [00:00<?, ?it/s]"
      ]
     },
     "metadata": {},
     "output_type": "display_data"
    },
    {
     "data": {
      "application/vnd.jupyter.widget-view+json": {
       "model_id": "5f5523640e654ab5a3a9c657b4f8fc7f",
       "version_major": 2,
       "version_minor": 0
      },
      "text/plain": [
       "Running 5000 simulations in 50 batches.:   0%|          | 0/50 [00:00<?, ?it/s]"
      ]
     },
     "metadata": {},
     "output_type": "display_data"
    }
   ],
   "source": [
    "%run ../ddm_stride/run.py hydra.run.dir={dir} run_simulate=True "
   ]
  }
 ],
 "metadata": {
  "interpreter": {
   "hash": "cff03ddc82668ca004d587eb356366ca0428f63114de65eccbc236aab7e2a35b"
  },
  "kernelspec": {
   "display_name": "Python 3.9.12 ('ddm_stride_env')",
   "language": "python",
   "name": "python3"
  },
  "language_info": {
   "codemirror_mode": {
    "name": "ipython",
    "version": 3
   },
   "file_extension": ".py",
   "mimetype": "text/x-python",
   "name": "python",
   "nbconvert_exporter": "python",
   "pygments_lexer": "ipython3",
   "version": "3.9.12"
  },
  "orig_nbformat": 4
 },
 "nbformat": 4,
 "nbformat_minor": 2
}
