{
 "cells": [
  {
   "cell_type": "markdown",
   "metadata": {},
   "source": [
    "## Define the Posterior\n",
    "\n",
    "Inference will be performed by passing the trained MNLE to a posterior function. \n",
    "The [sbi package](https://pypi.org/project/sbi/) provides a MCMC Posterior, a Rejection Posterior and a Variational Inference Posterior for the execution of likelihood-based inference. So far, DDM-STRIDE only allows the use of a MCMC Posterior extension.\n",
    "\n",
    "Open your file in `config/task`. `posterior_params` control how the posterior samples are drawn. You can find a description of the parameters in the [sbi package](https://github.com/mackelab/sbi/blob/7799de5e4bc676ef4a9db304b225503126735f2c/sbi/inference/posteriors/mcmc_posterior.py#L57).  \n",
    "\n",
    "Setting `thin` to 10 will result in every 10th sample being used for the posterior samples. This will reduce correlation between samples and thus yield better results, but drawing the posterior samples will take about 10 times as long. If you use `slice_np_vectorized`, the thinning factor is applied to the warmup steps. I.e. with 20 warmup steps and a thinning factor of 5 each chain will perform 100 warmup steps.  \n",
    "\n",
    "Setting `max_width` might help to speed up posterior sampling. A suitable value for max_width might be the range of the widest parameter prior selected in `config/ddm_model`. \n",
    "\n",
    "It might be worthwile to use the fast diagnosis step to play around with parameters in order to find a balance between inference speed and posterior performance. The plots created by the posterior predictive check can give you an impression of how well the posterior performs. Increasing `thin`, `init_strategy_num_candidates` and `warmup_steps` or changing the `init_strategy` might improve results."
   ]
  }
 ],
 "metadata": {
  "interpreter": {
   "hash": "cff03ddc82668ca004d587eb356366ca0428f63114de65eccbc236aab7e2a35b"
  },
  "kernelspec": {
   "display_name": "Python 3.9.12 ('ddm_stride_env')",
   "language": "python",
   "name": "python3"
  },
  "language_info": {
   "name": "python",
   "version": "3.9.12"
  },
  "orig_nbformat": 4
 },
 "nbformat": 4,
 "nbformat_minor": 2
}
